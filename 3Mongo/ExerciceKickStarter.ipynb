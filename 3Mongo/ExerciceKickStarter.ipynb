{
 "cells": [
  {
   "cell_type": "markdown",
   "metadata": {},
   "source": [
    "#  Consignes\n",
    "\n",
    "## Description\n",
    "\n",
    "Ouvrir le fichier ks-projects-201801.csv, il recense environ 100 000 projets KickStarter. Intégrer les données directement avec L'API Python dans une base de données Mongo. \n",
    "\n",
    "Il conviendra de bien spécifier manuellement l'ID du document. Pensez aussi à bien formatter le type des données pour profiter des méthodes implémentées par Mongo. L'ensemble de données n'est pas forcément nécessaire, c'est à vous de créer votre modèle de données.\n",
    "\n",
    "## Questions\n",
    "\n",
    "- 1) Récupérer les 5 projets ayant reçu le plus de promesse de dons.\n",
    "- 2) Compter le nombre de projets ayant atteint leur but.\n",
    "- 3) Compter le nombre de projets pour chaque catégorie.\n",
    "- 4) Compter le nombre de projets français ayant été instanciés avant 2016.\n",
    "- 5) Récupérer les projets américains ayant demandé plus de 200 000 dollars.\n",
    "- 6) Compter le nombre de projet ayant \"Sport\" dans leur nom"
   ]
  },
  {
   "cell_type": "code",
   "execution_count": 8,
   "metadata": {},
   "outputs": [],
   "source": [
    "import pandas as pd\n",
    "import pymongo"
   ]
  },
  {
   "cell_type": "code",
   "execution_count": 9,
   "metadata": {},
   "outputs": [],
   "source": [
    "client = pymongo.MongoClient(\"mongo\")\n",
    "database = client['exercices']\n",
    "collection = database['kickstarter']"
   ]
  },
  {
   "cell_type": "code",
   "execution_count": 10,
   "metadata": {},
   "outputs": [
    {
     "name": "stderr",
     "output_type": "stream",
     "text": [
      "/root/.local/share/virtualenvs/code-AFz48Hjb/lib/python3.8/site-packages/IPython/core/interactiveshell.py:3146: DtypeWarning: Columns (6,8,10,12) have mixed types.Specify dtype option on import or set low_memory=False.\n",
      "  has_raised = await self.run_ast_nodes(code_ast.body, cell_name,\n"
     ]
    },
    {
     "data": {
      "text/html": [
       "<div>\n",
       "<style scoped>\n",
       "    .dataframe tbody tr th:only-of-type {\n",
       "        vertical-align: middle;\n",
       "    }\n",
       "\n",
       "    .dataframe tbody tr th {\n",
       "        vertical-align: top;\n",
       "    }\n",
       "\n",
       "    .dataframe thead th {\n",
       "        text-align: right;\n",
       "    }\n",
       "</style>\n",
       "<table border=\"1\" class=\"dataframe\">\n",
       "  <thead>\n",
       "    <tr style=\"text-align: right;\">\n",
       "      <th></th>\n",
       "      <th>ID</th>\n",
       "      <th>name</th>\n",
       "      <th>category</th>\n",
       "      <th>main_category</th>\n",
       "      <th>currency</th>\n",
       "      <th>deadline</th>\n",
       "      <th>goal</th>\n",
       "      <th>launched</th>\n",
       "      <th>pledged</th>\n",
       "      <th>state</th>\n",
       "      <th>backers</th>\n",
       "      <th>country</th>\n",
       "      <th>usd pledged</th>\n",
       "      <th>usd_pledged_real</th>\n",
       "    </tr>\n",
       "  </thead>\n",
       "  <tbody>\n",
       "    <tr>\n",
       "      <th>0</th>\n",
       "      <td>872782264</td>\n",
       "      <td>Scott Cooper's Solo CD \"A Leg Trick\" (Canceled)</td>\n",
       "      <td>Rock</td>\n",
       "      <td>Music</td>\n",
       "      <td>USD</td>\n",
       "      <td>2011-09-16</td>\n",
       "      <td>2000</td>\n",
       "      <td>2011-08-17 06:31:31</td>\n",
       "      <td>1145</td>\n",
       "      <td>canceled</td>\n",
       "      <td>24</td>\n",
       "      <td>US</td>\n",
       "      <td>1145</td>\n",
       "      <td>1145.000000</td>\n",
       "    </tr>\n",
       "    <tr>\n",
       "      <th>1</th>\n",
       "      <td>1326492673</td>\n",
       "      <td>Ohceola jewelry</td>\n",
       "      <td>Fashion</td>\n",
       "      <td>Fashion</td>\n",
       "      <td>USD</td>\n",
       "      <td>2012-08-22</td>\n",
       "      <td>18000</td>\n",
       "      <td>2012-07-23 20:46:48</td>\n",
       "      <td>1851</td>\n",
       "      <td>failed</td>\n",
       "      <td>28</td>\n",
       "      <td>US</td>\n",
       "      <td>1851</td>\n",
       "      <td>1851.000000</td>\n",
       "    </tr>\n",
       "    <tr>\n",
       "      <th>2</th>\n",
       "      <td>1688410639</td>\n",
       "      <td>Sluff Off &amp; Harald: Two latest EGGs are Classi...</td>\n",
       "      <td>Tabletop Games</td>\n",
       "      <td>Games</td>\n",
       "      <td>USD</td>\n",
       "      <td>2016-07-19</td>\n",
       "      <td>2000</td>\n",
       "      <td>2016-07-01 21:55:54</td>\n",
       "      <td>7534</td>\n",
       "      <td>successful</td>\n",
       "      <td>254</td>\n",
       "      <td>US</td>\n",
       "      <td>3796</td>\n",
       "      <td>7534.000000</td>\n",
       "    </tr>\n",
       "    <tr>\n",
       "      <th>3</th>\n",
       "      <td>156812982</td>\n",
       "      <td>SketchPlanner: Create and Plan- all in one bea...</td>\n",
       "      <td>Art Books</td>\n",
       "      <td>Publishing</td>\n",
       "      <td>USD</td>\n",
       "      <td>2017-09-27</td>\n",
       "      <td>13000</td>\n",
       "      <td>2017-08-28 15:47:02</td>\n",
       "      <td>16298</td>\n",
       "      <td>successful</td>\n",
       "      <td>367</td>\n",
       "      <td>US</td>\n",
       "      <td>2670</td>\n",
       "      <td>16298.000000</td>\n",
       "    </tr>\n",
       "    <tr>\n",
       "      <th>4</th>\n",
       "      <td>1835968190</td>\n",
       "      <td>Proven sales with custom motorcycle accessories</td>\n",
       "      <td>Sculpture</td>\n",
       "      <td>Art</td>\n",
       "      <td>CAD</td>\n",
       "      <td>2016-02-24</td>\n",
       "      <td>5000</td>\n",
       "      <td>2016-01-25 17:37:10</td>\n",
       "      <td>1</td>\n",
       "      <td>failed</td>\n",
       "      <td>1</td>\n",
       "      <td>CA</td>\n",
       "      <td>0.708148</td>\n",
       "      <td>0.738225</td>\n",
       "    </tr>\n",
       "  </tbody>\n",
       "</table>\n",
       "</div>"
      ],
      "text/plain": [
       "           ID                                               name  \\\n",
       "0   872782264    Scott Cooper's Solo CD \"A Leg Trick\" (Canceled)   \n",
       "1  1326492673                                    Ohceola jewelry   \n",
       "2  1688410639  Sluff Off & Harald: Two latest EGGs are Classi...   \n",
       "3   156812982  SketchPlanner: Create and Plan- all in one bea...   \n",
       "4  1835968190    Proven sales with custom motorcycle accessories   \n",
       "\n",
       "         category main_category currency    deadline   goal  \\\n",
       "0            Rock         Music      USD  2011-09-16   2000   \n",
       "1         Fashion       Fashion      USD  2012-08-22  18000   \n",
       "2  Tabletop Games         Games      USD  2016-07-19   2000   \n",
       "3       Art Books    Publishing      USD  2017-09-27  13000   \n",
       "4       Sculpture           Art      CAD  2016-02-24   5000   \n",
       "\n",
       "              launched pledged       state backers country usd pledged  \\\n",
       "0  2011-08-17 06:31:31    1145    canceled      24      US        1145   \n",
       "1  2012-07-23 20:46:48    1851      failed      28      US        1851   \n",
       "2  2016-07-01 21:55:54    7534  successful     254      US        3796   \n",
       "3  2017-08-28 15:47:02   16298  successful     367      US        2670   \n",
       "4  2016-01-25 17:37:10       1      failed       1      CA    0.708148   \n",
       "\n",
       "   usd_pledged_real  \n",
       "0       1145.000000  \n",
       "1       1851.000000  \n",
       "2       7534.000000  \n",
       "3      16298.000000  \n",
       "4          0.738225  "
      ]
     },
     "execution_count": 10,
     "metadata": {},
     "output_type": "execute_result"
    }
   ],
   "source": [
    "df_ks = pd.read_csv(\"./data/ks-projects-201801-sample.csv\")\n",
    "df_ks.head()"
   ]
  },
  {
   "cell_type": "markdown",
   "metadata": {},
   "source": [
    "Ce warning intervient lorsque pandas n'arrive pas à inférer le type de données. Il est sympa il précise les colones 6,8,10,12. "
   ]
  },
  {
   "cell_type": "code",
   "execution_count": 11,
   "metadata": {},
   "outputs": [
    {
     "data": {
      "text/plain": [
       "Index(['goal', 'pledged', 'backers', 'usd pledged'], dtype='object')"
      ]
     },
     "execution_count": 11,
     "metadata": {},
     "output_type": "execute_result"
    }
   ],
   "source": [
    "df_ks.columns[[6,8,10,12]]"
   ]
  },
  {
   "cell_type": "markdown",
   "metadata": {},
   "source": [
    "## Question 0"
   ]
  },
  {
   "cell_type": "markdown",
   "metadata": {},
   "source": [
    "### Nettoyer les données"
   ]
  },
  {
   "cell_type": "code",
   "execution_count": 12,
   "metadata": {
    "scrolled": true
   },
   "outputs": [
    {
     "data": {
      "text/html": [
       "<div>\n",
       "<style scoped>\n",
       "    .dataframe tbody tr th:only-of-type {\n",
       "        vertical-align: middle;\n",
       "    }\n",
       "\n",
       "    .dataframe tbody tr th {\n",
       "        vertical-align: top;\n",
       "    }\n",
       "\n",
       "    .dataframe thead th {\n",
       "        text-align: right;\n",
       "    }\n",
       "</style>\n",
       "<table border=\"1\" class=\"dataframe\">\n",
       "  <thead>\n",
       "    <tr style=\"text-align: right;\">\n",
       "      <th></th>\n",
       "      <th>ID</th>\n",
       "      <th>name</th>\n",
       "      <th>category</th>\n",
       "      <th>main_category</th>\n",
       "      <th>currency</th>\n",
       "      <th>deadline</th>\n",
       "      <th>goal</th>\n",
       "      <th>launched</th>\n",
       "      <th>pledged</th>\n",
       "      <th>state</th>\n",
       "      <th>backers</th>\n",
       "      <th>country</th>\n",
       "      <th>usd pledged</th>\n",
       "      <th>usd_pledged_real</th>\n",
       "    </tr>\n",
       "  </thead>\n",
       "  <tbody>\n",
       "    <tr>\n",
       "      <th>0</th>\n",
       "      <td>1</td>\n",
       "      <td>Scott Cooper's Solo CD \"A Leg Trick\" (Canceled)</td>\n",
       "      <td>Rock</td>\n",
       "      <td>Music</td>\n",
       "      <td>USD</td>\n",
       "      <td>2011-09-16</td>\n",
       "      <td>2000</td>\n",
       "      <td>2011-08-17 06:31:31</td>\n",
       "      <td>1145</td>\n",
       "      <td>canceled</td>\n",
       "      <td>24</td>\n",
       "      <td>US</td>\n",
       "      <td>1145</td>\n",
       "      <td>1145.000000</td>\n",
       "    </tr>\n",
       "    <tr>\n",
       "      <th>1</th>\n",
       "      <td>2</td>\n",
       "      <td>Ohceola jewelry</td>\n",
       "      <td>Fashion</td>\n",
       "      <td>Fashion</td>\n",
       "      <td>USD</td>\n",
       "      <td>2012-08-22</td>\n",
       "      <td>18000</td>\n",
       "      <td>2012-07-23 20:46:48</td>\n",
       "      <td>1851</td>\n",
       "      <td>failed</td>\n",
       "      <td>28</td>\n",
       "      <td>US</td>\n",
       "      <td>1851</td>\n",
       "      <td>1851.000000</td>\n",
       "    </tr>\n",
       "    <tr>\n",
       "      <th>2</th>\n",
       "      <td>3</td>\n",
       "      <td>Sluff Off &amp; Harald: Two latest EGGs are Classi...</td>\n",
       "      <td>Tabletop Games</td>\n",
       "      <td>Games</td>\n",
       "      <td>USD</td>\n",
       "      <td>2016-07-19</td>\n",
       "      <td>2000</td>\n",
       "      <td>2016-07-01 21:55:54</td>\n",
       "      <td>7534</td>\n",
       "      <td>successful</td>\n",
       "      <td>254</td>\n",
       "      <td>US</td>\n",
       "      <td>3796</td>\n",
       "      <td>7534.000000</td>\n",
       "    </tr>\n",
       "    <tr>\n",
       "      <th>3</th>\n",
       "      <td>4</td>\n",
       "      <td>SketchPlanner: Create and Plan- all in one bea...</td>\n",
       "      <td>Art Books</td>\n",
       "      <td>Publishing</td>\n",
       "      <td>USD</td>\n",
       "      <td>2017-09-27</td>\n",
       "      <td>13000</td>\n",
       "      <td>2017-08-28 15:47:02</td>\n",
       "      <td>16298</td>\n",
       "      <td>successful</td>\n",
       "      <td>367</td>\n",
       "      <td>US</td>\n",
       "      <td>2670</td>\n",
       "      <td>16298.000000</td>\n",
       "    </tr>\n",
       "    <tr>\n",
       "      <th>4</th>\n",
       "      <td>5</td>\n",
       "      <td>Proven sales with custom motorcycle accessories</td>\n",
       "      <td>Sculpture</td>\n",
       "      <td>Art</td>\n",
       "      <td>CAD</td>\n",
       "      <td>2016-02-24</td>\n",
       "      <td>5000</td>\n",
       "      <td>2016-01-25 17:37:10</td>\n",
       "      <td>1</td>\n",
       "      <td>failed</td>\n",
       "      <td>1</td>\n",
       "      <td>CA</td>\n",
       "      <td>0.708148</td>\n",
       "      <td>0.738225</td>\n",
       "    </tr>\n",
       "  </tbody>\n",
       "</table>\n",
       "</div>"
      ],
      "text/plain": [
       "   ID                                               name        category  \\\n",
       "0   1    Scott Cooper's Solo CD \"A Leg Trick\" (Canceled)            Rock   \n",
       "1   2                                    Ohceola jewelry         Fashion   \n",
       "2   3  Sluff Off & Harald: Two latest EGGs are Classi...  Tabletop Games   \n",
       "3   4  SketchPlanner: Create and Plan- all in one bea...       Art Books   \n",
       "4   5    Proven sales with custom motorcycle accessories       Sculpture   \n",
       "\n",
       "  main_category currency   deadline   goal            launched pledged  \\\n",
       "0         Music      USD 2011-09-16   2000 2011-08-17 06:31:31    1145   \n",
       "1       Fashion      USD 2012-08-22  18000 2012-07-23 20:46:48    1851   \n",
       "2         Games      USD 2016-07-19   2000 2016-07-01 21:55:54    7534   \n",
       "3    Publishing      USD 2017-09-27  13000 2017-08-28 15:47:02   16298   \n",
       "4           Art      CAD 2016-02-24   5000 2016-01-25 17:37:10       1   \n",
       "\n",
       "        state backers country usd pledged  usd_pledged_real  \n",
       "0    canceled      24      US        1145       1145.000000  \n",
       "1      failed      28      US        1851       1851.000000  \n",
       "2  successful     254      US        3796       7534.000000  \n",
       "3  successful     367      US        2670      16298.000000  \n",
       "4      failed       1      CA    0.708148          0.738225  "
      ]
     },
     "execution_count": 12,
     "metadata": {},
     "output_type": "execute_result"
    }
   ],
   "source": [
    "#Création de la nouvelle dataframe à partir du fichier csv\n",
    "new_df_ks = df_ks.copy()\n",
    "\n",
    "#Changement de l'id\n",
    "new_df_ks['ID'] = pd.Series(range(1, (len(new_df_ks['ID'])+1)))\n",
    "\n",
    "#La ligne associé à l'ID 66142, donc index 66141 est faussé car les valeurs ne sont pas dans la bonne colonne rendant la ligne inutilisable et rendant certaines manipulations compliquées. Nous enlevons donc cette valeur\n",
    "new_df_ks = new_df_ks.drop([66141])\n",
    "\n",
    "#Modification du format de date\n",
    "new_df_ks['launched'] = pd.to_datetime(new_df_ks['launched'], format='%Y-%m-%d %H:%M:%S')\n",
    "new_df_ks['deadline'] = pd.to_datetime(new_df_ks['deadline'], format='%Y-%m-%d')\n",
    "\n",
    "\n",
    "new_df_ks.head()"
   ]
  },
  {
   "cell_type": "markdown",
   "metadata": {
    "slideshow": {
     "slide_type": "slide"
    }
   },
   "source": [
    "### Importer les données"
   ]
  },
  {
   "cell_type": "code",
   "execution_count": 14,
   "metadata": {},
   "outputs": [
    {
     "ename": "TypeError",
     "evalue": "'Collection' object is not callable. If you meant to call the 'insert_many' method on a 'Collection' object it is failing because no such method exists.",
     "output_type": "error",
     "traceback": [
      "\u001b[0;31m---------------------------------------------------------------------------\u001b[0m",
      "\u001b[0;31mTypeError\u001b[0m                                 Traceback (most recent call last)",
      "\u001b[0;32m<ipython-input-14-e03694ea079b>\u001b[0m in \u001b[0;36m<module>\u001b[0;34m\u001b[0m\n\u001b[0;32m----> 1\u001b[0;31m \u001b[0mcollection\u001b[0m\u001b[0;34m.\u001b[0m\u001b[0minsert_many\u001b[0m\u001b[0;34m(\u001b[0m\u001b[0mnew_df_ks\u001b[0m\u001b[0;34m.\u001b[0m\u001b[0mto_dict\u001b[0m\u001b[0;34m(\u001b[0m\u001b[0morient\u001b[0m\u001b[0;34m=\u001b[0m\u001b[0;34m'records'\u001b[0m\u001b[0;34m)\u001b[0m\u001b[0;34m)\u001b[0m\u001b[0;34m\u001b[0m\u001b[0;34m\u001b[0m\u001b[0m\n\u001b[0m",
      "\u001b[0;32m~/.local/share/virtualenvs/code-AFz48Hjb/lib/python3.8/site-packages/pymongo/collection.py\u001b[0m in \u001b[0;36m__call__\u001b[0;34m(self, *args, **kwargs)\u001b[0m\n\u001b[1;32m   1775\u001b[0m                             \u001b[0;34m\"exists.\"\u001b[0m \u001b[0;34m%\u001b[0m\u001b[0;34m\u001b[0m\u001b[0;34m\u001b[0m\u001b[0m\n\u001b[1;32m   1776\u001b[0m                             self.__name)\n\u001b[0;32m-> 1777\u001b[0;31m         raise TypeError(\"'Collection' object is not callable. If you meant to \"\n\u001b[0m\u001b[1;32m   1778\u001b[0m                         \u001b[0;34m\"call the '%s' method on a 'Collection' object it is \"\u001b[0m\u001b[0;34m\u001b[0m\u001b[0;34m\u001b[0m\u001b[0m\n\u001b[1;32m   1779\u001b[0m                         \u001b[0;34m\"failing because no such method exists.\"\u001b[0m \u001b[0;34m%\u001b[0m\u001b[0;34m\u001b[0m\u001b[0;34m\u001b[0m\u001b[0m\n",
      "\u001b[0;31mTypeError\u001b[0m: 'Collection' object is not callable. If you meant to call the 'insert_many' method on a 'Collection' object it is failing because no such method exists."
     ]
    }
   ],
   "source": [
    "collection.delete_many({})\n",
    "collection.insert_many(new_df_ks.to_dict(orient='records'))"
   ]
  },
  {
   "cell_type": "markdown",
   "metadata": {},
   "source": [
    "## Question 1  "
   ]
  },
  {
   "cell_type": "code",
   "execution_count": null,
   "metadata": {
    "scrolled": true
   },
   "outputs": [],
   "source": [
    "#On récupère les 5 projets ayant la plus grande valeur dans le colonne 'pledged'\n",
    "cur = collection.find({}, {'ID':1, 'name':1, 'pledged':1}).sort([('pledged',-1)])\n",
    "list(cur)[0:5]"
   ]
  },
  {
   "cell_type": "markdown",
   "metadata": {},
   "source": [
    "## Question 2"
   ]
  },
  {
   "cell_type": "code",
   "execution_count": 8,
   "metadata": {},
   "outputs": [
    {
     "data": {
      "text/plain": [
       "[{'Nombre de projet ayant atteint leur but': 53040}]"
      ]
     },
     "execution_count": 8,
     "metadata": {},
     "output_type": "execute_result"
    }
   ],
   "source": [
    "#On compte le nombre de projet ayant la valeur 'successful' dans la colonne 'state'\n",
    "cur = collection.aggregate([\n",
    "    {\n",
    "        '$match': { 'state': 'successful'}\n",
    "    },\n",
    "    {\n",
    "        '$count':'Nombre de projet ayant atteint leur but'\n",
    "    }])\n",
    "list(cur)"
   ]
  },
  {
   "cell_type": "markdown",
   "metadata": {},
   "source": [
    "## Question 3"
   ]
  },
  {
   "cell_type": "code",
   "execution_count": 9,
   "metadata": {},
   "outputs": [
    {
     "data": {
      "text/plain": [
       "[{'_id': 'Food Trucks', 'nombre de projets': 687},\n",
       " {'_id': 'Quilts', 'nombre de projets': 32},\n",
       " {'_id': 'Horror', 'nombre de projets': 525},\n",
       " {'_id': 'Classical Music', 'nombre de projets': 1064},\n",
       " {'_id': 'Printing', 'nombre de projets': 83},\n",
       " {'_id': 'Pop', 'nombre de projets': 1302},\n",
       " {'_id': 'Web', 'nombre de projets': 2017},\n",
       " {'_id': 'Events', 'nombre de projets': 322},\n",
       " {'_id': 'Experimental', 'nombre de projets': 357},\n",
       " {'_id': 'Digital Art', 'nombre de projets': 524},\n",
       " {'_id': 'Art', 'nombre de projets': 3358},\n",
       " {'_id': 'Product Design', 'nombre de projets': 8886},\n",
       " {'_id': 'Farms', 'nombre de projets': 482},\n",
       " {'_id': 'Faith', 'nombre de projets': 439},\n",
       " {'_id': 'Pet Fashion', 'nombre de projets': 51},\n",
       " {'_id': 'Candles', 'nombre de projets': 168},\n",
       " {'_id': 'Hardware', 'nombre de projets': 1431},\n",
       " {'_id': 'Musical', 'nombre de projets': 367},\n",
       " {'_id': 'Apparel', 'nombre de projets': 2827},\n",
       " {'_id': 'Webcomics', 'nombre de projets': 259},\n",
       " {'_id': 'Fashion', 'nombre de projets': 3379},\n",
       " {'_id': 'People', 'nombre de projets': 440},\n",
       " {'_id': 'Illustration', 'nombre de projets': 1263},\n",
       " {'_id': 'Fine Art', 'nombre de projets': 291},\n",
       " {'_id': 'World Music', 'nombre de projets': 850},\n",
       " {'_id': 'Couture', 'nombre de projets': 108},\n",
       " {'_id': 'Webseries', 'nombre de projets': 2316},\n",
       " {'_id': 'Places', 'nombre de projets': 283},\n",
       " {'_id': 'Embroidery', 'nombre de projets': 49},\n",
       " {'_id': 'Space Exploration', 'nombre de projets': 137},\n",
       " {'_id': 'Plays', 'nombre de projets': 539},\n",
       " {'_id': 'Latin', 'nombre de projets': 63},\n",
       " {'_id': 'Textiles', 'nombre de projets': 105},\n",
       " {'_id': 'Radio & Podcasts', 'nombre de projets': 349},\n",
       " {'_id': 'Accessories', 'nombre de projets': 1204},\n",
       " {'_id': 'Literary Journals', 'nombre de projets': 118},\n",
       " {'_id': 'Video Art', 'nombre de projets': 65},\n",
       " {'_id': 'Chiptune', 'nombre de projets': 10},\n",
       " {'_id': 'Cookbooks', 'nombre de projets': 217},\n",
       " {'_id': 'Rock', 'nombre de projets': 2707},\n",
       " {'_id': 'Metal', 'nombre de projets': 274},\n",
       " {'_id': 'Painting', 'nombre de projets': 1288},\n",
       " {'_id': 'Camera Equipment', 'nombre de projets': 165},\n",
       " {'_id': 'Residencies', 'nombre de projets': 32},\n",
       " {'_id': 'Sculpture', 'nombre de projets': 737},\n",
       " {'_id': 'Anthologies', 'nombre de projets': 300},\n",
       " {'_id': 'Childrenswear', 'nombre de projets': 192},\n",
       " {'_id': 'Publishing', 'nombre de projets': 2332},\n",
       " {'_id': 'Puzzles', 'nombre de projets': 95},\n",
       " {'_id': 'Software', 'nombre de projets': 1194},\n",
       " {'_id': 'Fabrication Tools', 'nombre de projets': 96},\n",
       " {'_id': 'Journalism', 'nombre de projets': 672},\n",
       " {'_id': 'Science Fiction', 'nombre de projets': 274},\n",
       " {'_id': 'Movie Theaters', 'nombre de projets': 90},\n",
       " {'_id': 'Knitting', 'nombre de projets': 78},\n",
       " {'_id': 'Gadgets', 'nombre de projets': 1210},\n",
       " {'_id': 'Print', 'nombre de projets': 288},\n",
       " {'_id': 'Makerspaces', 'nombre de projets': 91},\n",
       " {'_id': 'Small Batch', 'nombre de projets': 701},\n",
       " {'_id': 'Vegan', 'nombre de projets': 229},\n",
       " {'_id': 'Film & Video', 'nombre de projets': 4003},\n",
       " {'_id': 'Spaces', 'nombre de projets': 331},\n",
       " {'_id': 'Music', 'nombre de projets': 6229},\n",
       " {'_id': 'Crafts', 'nombre de projets': 1834},\n",
       " {'_id': 'Restaurants', 'nombre de projets': 1089},\n",
       " {'_id': 'Hip-Hop', 'nombre de projets': 1555},\n",
       " {'_id': 'Electronic Music', 'nombre de projets': 858},\n",
       " {'_id': 'Pottery', 'nombre de projets': 40},\n",
       " {'_id': 'Academic', 'nombre de projets': 367},\n",
       " {'_id': 'Nonfiction', 'nombre de projets': 3390},\n",
       " {'_id': 'Fiction', 'nombre de projets': 3703},\n",
       " {'_id': 'Young Adult', 'nombre de projets': 328},\n",
       " {'_id': 'Woodworking', 'nombre de projets': 433},\n",
       " {'_id': 'Art Books', 'nombre de projets': 1065},\n",
       " {'_id': 'Playing Cards', 'nombre de projets': 963},\n",
       " {'_id': 'Music Videos', 'nombre de projets': 299},\n",
       " {'_id': 'Ready-to-wear', 'nombre de projets': 332},\n",
       " {'_id': 'Sound', 'nombre de projets': 255},\n",
       " {'_id': 'Comedy', 'nombre de projets': 923},\n",
       " {'_id': 'Installations', 'nombre de projets': 178},\n",
       " {'_id': 'Action', 'nombre de projets': 282},\n",
       " {'_id': 'Poetry', 'nombre de projets': 532},\n",
       " {'_id': 'Interactive Design', 'nombre de projets': 146},\n",
       " {'_id': 'Civic Design', 'nombre de projets': 130},\n",
       " {'_id': 'Kids', 'nombre de projets': 109},\n",
       " {'_id': 'Letterpress', 'nombre de projets': 24},\n",
       " {'_id': 'Fantasy', 'nombre de projets': 132},\n",
       " {'_id': 'Theater', 'nombre de projets': 2786},\n",
       " {'_id': 'Drinks', 'nombre de projets': 995},\n",
       " {'_id': 'Conceptual Art', 'nombre de projets': 393},\n",
       " {'_id': 'Flight', 'nombre de projets': 158},\n",
       " {'_id': 'Performances', 'nombre de projets': 414},\n",
       " {'_id': 'Mobile Games', 'nombre de projets': 650},\n",
       " {'_id': 'Performance Art', 'nombre de projets': 855},\n",
       " {'_id': 'Public Art', 'nombre de projets': 1248},\n",
       " {'_id': 'Tabletop Games', 'nombre de projets': 5581},\n",
       " {'_id': 'Wearables', 'nombre de projets': 508},\n",
       " {'_id': 'Comics', 'nombre de projets': 1931},\n",
       " {'_id': 'Technology', 'nombre de projets': 2690},\n",
       " {'_id': 'Photography', 'nombre de projets': 2239},\n",
       " {'_id': \"Farmer's Markets\", 'nombre de projets': 175},\n",
       " {'_id': 'Periodicals', 'nombre de projets': 517},\n",
       " {'_id': 'Live Games', 'nombre de projets': 394},\n",
       " {'_id': 'Footwear', 'nombre de projets': 379},\n",
       " {'_id': 'Audio', 'nombre de projets': 164},\n",
       " {'_id': 'Calendars', 'nombre de projets': 112},\n",
       " {'_id': 'Video Games', 'nombre de projets': 4799},\n",
       " {'_id': 'Indie Rock', 'nombre de projets': 2192},\n",
       " {'_id': 'Video', 'nombre de projets': 147},\n",
       " {'_id': 'Mixed Media', 'nombre de projets': 1118},\n",
       " {'_id': 'Punk', 'nombre de projets': 127},\n",
       " {'_id': 'Animals', 'nombre de projets': 97},\n",
       " {'_id': 'Crochet', 'nombre de projets': 61},\n",
       " {'_id': 'Festivals', 'nombre de projets': 313},\n",
       " {'_id': 'Community Gardens', 'nombre de projets': 115},\n",
       " {'_id': 'Stationery', 'nombre de projets': 90},\n",
       " {'_id': 'Family', 'nombre de projets': 130},\n",
       " {'_id': 'Comic Books', 'nombre de projets': 1032},\n",
       " {'_id': 'DIY', 'nombre de projets': 480},\n",
       " {'_id': \"Children's Books\", 'nombre de projets': 2686},\n",
       " {'_id': 'Ceramics', 'nombre de projets': 128},\n",
       " {'_id': 'Gaming Hardware', 'nombre de projets': 178},\n",
       " {'_id': 'Weaving', 'nombre de projets': 38},\n",
       " {'_id': 'Design', 'nombre de projets': 1641},\n",
       " {'_id': 'Documentary', 'nombre de projets': 6498},\n",
       " {'_id': 'Photobooks', 'nombre de projets': 608},\n",
       " {'_id': 'Zines', 'nombre de projets': 144},\n",
       " {'_id': 'Photo', 'nombre de projets': 58},\n",
       " {'_id': 'Television', 'nombre de projets': 401},\n",
       " {'_id': 'Typography', 'nombre de projets': 44},\n",
       " {'_id': 'Immersive', 'nombre de projets': 131},\n",
       " {'_id': 'Jazz', 'nombre de projets': 733},\n",
       " {'_id': 'Robots', 'nombre de projets': 237},\n",
       " {'_id': 'Romance', 'nombre de projets': 74},\n",
       " {'_id': 'Graphic Design', 'nombre de projets': 765},\n",
       " {'_id': 'Shorts', 'nombre de projets': 4857},\n",
       " {'_id': 'Glass', 'nombre de projets': 51},\n",
       " {'_id': 'Architecture', 'nombre de projets': 300},\n",
       " {'_id': 'Animation', 'nombre de projets': 1017},\n",
       " {'_id': 'Nature', 'nombre de projets': 219},\n",
       " {'_id': 'Workshops', 'nombre de projets': 59},\n",
       " {'_id': 'Drama', 'nombre de projets': 871},\n",
       " {'_id': 'Graphic Novels', 'nombre de projets': 702},\n",
       " {'_id': 'Bacon', 'nombre de projets': 78},\n",
       " {'_id': '3D Printing', 'nombre de projets': 271},\n",
       " {'_id': 'Translations', 'nombre de projets': 76},\n",
       " {'_id': 'R&B', 'nombre de projets': 172},\n",
       " {'_id': 'Thrillers', 'nombre de projets': 302},\n",
       " {'_id': 'Games', 'nombre de projets': 1331},\n",
       " {'_id': 'Food', 'nombre de projets': 4612},\n",
       " {'_id': 'Country & Folk', 'nombre de projets': 1790},\n",
       " {'_id': 'Literary Spaces', 'nombre de projets': 10},\n",
       " {'_id': 'Blues', 'nombre de projets': 113},\n",
       " {'_id': 'Taxidermy', 'nombre de projets': 7},\n",
       " {'_id': 'Jewelry', 'nombre de projets': 472},\n",
       " {'_id': 'Apps', 'nombre de projets': 2535},\n",
       " {'_id': 'DIY Electronics', 'nombre de projets': 358},\n",
       " {'_id': 'Dance', 'nombre de projets': 901},\n",
       " {'_id': 'Narrative Film', 'nombre de projets': 2099}]"
      ]
     },
     "execution_count": 9,
     "metadata": {},
     "output_type": "execute_result"
    }
   ],
   "source": [
    "#On compte le nombre de projets pour chaque catégorie\n",
    "cur = collection.aggregate([{'$group' : {'_id' : '$category', \"nombre de projets\": {\"$sum\" : 1}}}])\n",
    "list(cur)"
   ]
  },
  {
   "cell_type": "markdown",
   "metadata": {},
   "source": [
    "## Question 4"
   ]
  },
  {
   "cell_type": "code",
   "execution_count": 10,
   "metadata": {},
   "outputs": [
    {
     "data": {
      "text/plain": [
       "[{'Nombre de projet français instanciés avant 2016': 330}]"
      ]
     },
     "execution_count": 10,
     "metadata": {},
     "output_type": "execute_result"
    }
   ],
   "source": [
    "#On compte le nombre de projets ayant la valeur 'FR' dans la colonne 'country' et dont la date d'instanciation est avant 2016\n",
    "cur = collection.aggregate([\n",
    "    {\n",
    "        '$match': \n",
    "        { \n",
    "            'country': 'FR',\n",
    "            'launched': {'$lt': pd.to_datetime(\"2016-01-01\")}\n",
    "        }\n",
    "    },\n",
    "    {\n",
    "        '$count':'Nombre de projets français instanciés avant 2016'\n",
    "    }])\n",
    "list(cur)"
   ]
  },
  {
   "cell_type": "markdown",
   "metadata": {},
   "source": [
    "## Question 5"
   ]
  },
  {
   "cell_type": "code",
   "execution_count": 11,
   "metadata": {},
   "outputs": [
    {
     "data": {
      "text/plain": [
       "[{'Nombre de projets américains ayant demandé plus de 200 000 dollars': 1026}]"
      ]
     },
     "execution_count": 11,
     "metadata": {},
     "output_type": "execute_result"
    }
   ],
   "source": [
    "#On compte le nombre de projets ayant la valeur 'US' dans la colonne 'country', et une valeur strictement supérieur à 200 000 dans la colonne 'goal'\n",
    "cur = collection.aggregate([\n",
    "    {\n",
    "        '$match': \n",
    "        { \n",
    "            'country': 'US',\n",
    "            'goal': {'$gt': 200000}\n",
    "        }\n",
    "    },\n",
    "    {\n",
    "        '$count':\"Nombre de projets américains ayant demandés plus de 200 000 dollars\"\n",
    "    }])\n",
    "list(cur)\n",
    "\n"
   ]
  },
  {
   "cell_type": "markdown",
   "metadata": {},
   "source": [
    "## Question 6 "
   ]
  },
  {
   "cell_type": "code",
   "execution_count": 1,
   "metadata": {},
   "outputs": [
    {
     "ename": "NameError",
     "evalue": "name 'collection' is not defined",
     "output_type": "error",
     "traceback": [
      "\u001b[0;31m---------------------------------------------------------------------------\u001b[0m",
      "\u001b[0;31mNameError\u001b[0m                                 Traceback (most recent call last)",
      "\u001b[0;32m<ipython-input-1-a1f6fbe6150f>\u001b[0m in \u001b[0;36m<module>\u001b[0;34m\u001b[0m\n\u001b[1;32m      1\u001b[0m \u001b[0;31m#On compte le nombre de projets ayant la string \"Sport\" dans leur nom\u001b[0m\u001b[0;34m\u001b[0m\u001b[0;34m\u001b[0m\u001b[0;34m\u001b[0m\u001b[0m\n\u001b[0;32m----> 2\u001b[0;31m cur = collection.aggregate([\n\u001b[0m\u001b[1;32m      3\u001b[0m     {\n\u001b[1;32m      4\u001b[0m         \u001b[0;34m'$project'\u001b[0m \u001b[0;34m:\u001b[0m \u001b[0;34m{\u001b[0m\u001b[0;34m'name'\u001b[0m \u001b[0;34m:\u001b[0m \u001b[0;34m{\u001b[0m\u001b[0;34m'$regex'\u001b[0m \u001b[0;34m:\u001b[0m \u001b[0;34m'sport'\u001b[0m\u001b[0;34m}\u001b[0m\u001b[0;34m}\u001b[0m\u001b[0;34m\u001b[0m\u001b[0;34m\u001b[0m\u001b[0m\n\u001b[1;32m      5\u001b[0m     },\n",
      "\u001b[0;31mNameError\u001b[0m: name 'collection' is not defined"
     ]
    }
   ],
   "source": [
    "#On compte le nombre de projets ayant la string \"Sport\" dans leur nom\n",
    "cur = collection.aggregate([\n",
    "    {\n",
    "        '$match' : {'name' : {'$regex' : 'sport'}}\n",
    "    },\n",
    "    {\n",
    "        '$count':\"Nombre de projets contenant le mot 'Sport' dans le nom\"\n",
    "    }\n",
    "])\n",
    "list(cur)"
   ]
  },
  {
   "cell_type": "code",
   "execution_count": null,
   "metadata": {},
   "outputs": [],
   "source": []
  }
 ],
 "metadata": {
  "kernelspec": {
   "display_name": "Python 3",
   "language": "python",
   "name": "python3"
  },
  "language_info": {
   "codemirror_mode": {
    "name": "ipython",
    "version": 3
   },
   "file_extension": ".py",
   "mimetype": "text/x-python",
   "name": "python",
   "nbconvert_exporter": "python",
   "pygments_lexer": "ipython3",
   "version": "3.8.6"
  }
 },
 "nbformat": 4,
 "nbformat_minor": 2
}
