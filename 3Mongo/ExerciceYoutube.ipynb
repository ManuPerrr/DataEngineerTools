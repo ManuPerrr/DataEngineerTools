{
 "cells": [
  {
   "cell_type": "markdown",
   "metadata": {},
   "source": [
    "# Consignes\n",
    "\n",
    "Intégrer le fichier USvideos.csv qui représente un ensemble de 8000 vidéos Youtube. \n",
    "\n",
    "Merger le fichier US_category_id.json pour récupérer le nom des catégories. Il conviendra de bien spécifier l'ID du document.\n",
    "\n",
    "\n",
    "# Questions \n",
    "- 1) Récupérer toutes les vidéos de la chaîne Apple.\n",
    "- 2) Compter le nombre de catégories différentes\n",
    "- 3) Si vous ne l'avez pas déjà fait, découper les tags en listes et mettre à jour les tags de chacun des documents avec une requête update.\n",
    "- 4) Récupérer les vidéos les plus vues.\n",
    "- 5) Compter le nombre moyen de vues en fonction de la catégorie.\n",
    "- 6) Récupérer les chaines Youtube avec la plus grande moyenne de likes."
   ]
  },
  {
   "cell_type": "code",
   "execution_count": 1,
   "metadata": {},
   "outputs": [],
   "source": [
    "import pandas as pd\n",
    "import pymongo"
   ]
  },
  {
   "cell_type": "code",
   "execution_count": 2,
   "metadata": {},
   "outputs": [],
   "source": [
    "client = pymongo.MongoClient(\"mongo\")\n",
    "database = client['exercices']\n",
    "collection = database['youtube']"
   ]
  },
  {
   "cell_type": "code",
   "execution_count": 3,
   "metadata": {
    "scrolled": true
   },
   "outputs": [
    {
     "data": {
      "text/html": [
       "<div>\n",
       "<style scoped>\n",
       "    .dataframe tbody tr th:only-of-type {\n",
       "        vertical-align: middle;\n",
       "    }\n",
       "\n",
       "    .dataframe tbody tr th {\n",
       "        vertical-align: top;\n",
       "    }\n",
       "\n",
       "    .dataframe thead th {\n",
       "        text-align: right;\n",
       "    }\n",
       "</style>\n",
       "<table border=\"1\" class=\"dataframe\">\n",
       "  <thead>\n",
       "    <tr style=\"text-align: right;\">\n",
       "      <th></th>\n",
       "      <th>video_id</th>\n",
       "      <th>title</th>\n",
       "      <th>channel_title</th>\n",
       "      <th>category_id</th>\n",
       "      <th>tags</th>\n",
       "      <th>views</th>\n",
       "      <th>likes</th>\n",
       "      <th>dislikes</th>\n",
       "      <th>comment_total</th>\n",
       "      <th>thumbnail_link</th>\n",
       "      <th>date</th>\n",
       "    </tr>\n",
       "  </thead>\n",
       "  <tbody>\n",
       "    <tr>\n",
       "      <th>0</th>\n",
       "      <td>XpVt6Z1Gjjo</td>\n",
       "      <td>1 YEAR OF VLOGGING -- HOW LOGAN PAUL CHANGED Y...</td>\n",
       "      <td>Logan Paul Vlogs</td>\n",
       "      <td>24</td>\n",
       "      <td>logan paul vlog|logan paul|logan|paul|olympics...</td>\n",
       "      <td>4394029</td>\n",
       "      <td>320053</td>\n",
       "      <td>5931</td>\n",
       "      <td>46245</td>\n",
       "      <td>https://i.ytimg.com/vi/XpVt6Z1Gjjo/default.jpg</td>\n",
       "      <td>13.09</td>\n",
       "    </tr>\n",
       "    <tr>\n",
       "      <th>1</th>\n",
       "      <td>K4wEI5zhHB0</td>\n",
       "      <td>iPhone X — Introducing iPhone X — Apple</td>\n",
       "      <td>Apple</td>\n",
       "      <td>28</td>\n",
       "      <td>Apple|iPhone 10|iPhone Ten|iPhone|Portrait Lig...</td>\n",
       "      <td>7860119</td>\n",
       "      <td>185853</td>\n",
       "      <td>26679</td>\n",
       "      <td>0</td>\n",
       "      <td>https://i.ytimg.com/vi/K4wEI5zhHB0/default.jpg</td>\n",
       "      <td>13.09</td>\n",
       "    </tr>\n",
       "  </tbody>\n",
       "</table>\n",
       "</div>"
      ],
      "text/plain": [
       "      video_id                                              title  \\\n",
       "0  XpVt6Z1Gjjo  1 YEAR OF VLOGGING -- HOW LOGAN PAUL CHANGED Y...   \n",
       "1  K4wEI5zhHB0            iPhone X — Introducing iPhone X — Apple   \n",
       "\n",
       "      channel_title  category_id  \\\n",
       "0  Logan Paul Vlogs           24   \n",
       "1             Apple           28   \n",
       "\n",
       "                                                tags    views   likes  \\\n",
       "0  logan paul vlog|logan paul|logan|paul|olympics...  4394029  320053   \n",
       "1  Apple|iPhone 10|iPhone Ten|iPhone|Portrait Lig...  7860119  185853   \n",
       "\n",
       "   dislikes  comment_total                                  thumbnail_link  \\\n",
       "0      5931          46245  https://i.ytimg.com/vi/XpVt6Z1Gjjo/default.jpg   \n",
       "1     26679              0  https://i.ytimg.com/vi/K4wEI5zhHB0/default.jpg   \n",
       "\n",
       "    date  \n",
       "0  13.09  \n",
       "1  13.09  "
      ]
     },
     "execution_count": 3,
     "metadata": {},
     "output_type": "execute_result"
    }
   ],
   "source": [
    "df_youtube = pd.read_csv(\"./data/USvideos.csv\")\n",
    "df_youtube.head(2)"
   ]
  },
  {
   "cell_type": "markdown",
   "metadata": {},
   "source": [
    "## Question 0"
   ]
  },
  {
   "cell_type": "markdown",
   "metadata": {},
   "source": [
    "### Nettoyer les données"
   ]
  },
  {
   "cell_type": "code",
   "execution_count": 4,
   "metadata": {},
   "outputs": [
    {
     "name": "stderr",
     "output_type": "stream",
     "text": [
      "<ipython-input-4-3d704cc6e2a6>:10: SettingWithCopyWarning: \n",
      "A value is trying to be set on a copy of a slice from a DataFrame\n",
      "\n",
      "See the caveats in the documentation: https://pandas.pydata.org/pandas-docs/stable/user_guide/indexing.html#returning-a-view-versus-a-copy\n",
      "  tags_collumn[i] = tags_collumn[i].split(\"|\")\n"
     ]
    }
   ],
   "source": [
    "#Création de la nouvelle dataframe(1) à partir du fichier csv\n",
    "new_yt_df = df_youtube.copy()\n",
    "\n",
    "#Changement de l'id\n",
    "new_yt_df['video_id'] = pd.Series(range(1, (len(new_yt_df['video_id'])+1)))\n",
    "\n",
    "#Mise en place de liste dans la colonne tags\n",
    "tags_collumn = new_yt_df['tags']\n",
    "for i in range (len(tags_collumn)):\n",
    "    tags_collumn[i] = tags_collumn[i].split(\"|\")\n",
    "new_yt_df['tags'] = tags_collumn\n",
    "\n",
    "#On associe le fichier json à une dataframe(2)\n",
    "df_cat = pd.read_json(\"./data/US_category_id.json\")\n",
    "#On fait une dataframe(3) à partir de la série de dictionnaire (dernière colonne de notre dataframe(2) précédente) afin d'avoir les id\n",
    "new_df_catid = pd.DataFrame(list(df_cat['items']))\n",
    "#On fait une dataframe(4) à partir du dictionnaire présent dans le dictionnaire de la colonne 'snipper' de la dataframe(3) précedente afin d'avoir le titre des catégories\n",
    "new_df_cat = pd.DataFrame(list(pd.DataFrame(list(df_cat['items']))['snippet']))\n",
    "#On associe les deux dataframes((3)+(4)) différentes afin d'avoir les id que nous pouvons associer aux titres des catégories\n",
    "new_df_id = pd.concat([new_df_catid, new_df_cat], axis=1)\n",
    "#On convertie les id de ce dataframe((3)+(4)) en int afin d'avoir le même type que les id de la dataframe(1) du fichier csv\n",
    "new_df_id[\"id\"]=pd.to_numeric(new_df_id['id'], downcast='integer')\n",
    "#On change le nom de la colonne des catégories afin d'avoir le même nom entre nos deux dataframes(1) et effectuer la jointure\n",
    "new_df_id = new_df_id.rename(columns={'id':\"category_id\"})\n",
    "#On effectue la jointure sur la colonne qui nous intéresse\n",
    "new_df = pd.merge(new_yt_df, new_df_id, on=\"category_id\")\n",
    "#On rename quelques colonnes pour avoir une meilleure lisibilité\n",
    "new_df = new_df.rename(columns={'title_x':\"video_title\", 'title_y':\"category_title\"})\n",
    "#Nous supprimons les colonnes superflues provenant du fichier json\n",
    "new_df = new_df.drop(['kind', 'etag', 'snippet', 'channelId'], axis=1)"
   ]
  },
  {
   "cell_type": "markdown",
   "metadata": {
    "slideshow": {
     "slide_type": "slide"
    }
   },
   "source": [
    "### Importer les données"
   ]
  },
  {
   "cell_type": "code",
   "execution_count": 5,
   "metadata": {},
   "outputs": [
    {
     "data": {
      "text/plain": [
       "<pymongo.results.InsertManyResult at 0x7fd77847c1c0>"
      ]
     },
     "execution_count": 5,
     "metadata": {},
     "output_type": "execute_result"
    }
   ],
   "source": [
    "collection.delete_many({})\n",
    "collection.insert_many(new_df.to_dict(orient='records'))"
   ]
  },
  {
   "cell_type": "markdown",
   "metadata": {},
   "source": [
    "## Question 1  "
   ]
  },
  {
   "cell_type": "code",
   "execution_count": 6,
   "metadata": {},
   "outputs": [
    {
     "data": {
      "text/plain": [
       "[{'_id': ObjectId('5fce1bc8791f2aef9f8ae072'),\n",
       "  'video_id': 2,\n",
       "  'video_title': 'iPhone X — Introducing iPhone X — Apple',\n",
       "  'channel_title': 'Apple'},\n",
       " {'_id': ObjectId('5fce1bc8791f2aef9f8ae082'),\n",
       "  'video_id': 204,\n",
       "  'video_title': 'iPhone X — Introducing iPhone X — Apple',\n",
       "  'channel_title': 'Apple'},\n",
       " {'_id': ObjectId('5fce1bc8791f2aef9f8ae095'),\n",
       "  'video_id': 420,\n",
       "  'video_title': 'iPhone X — Introducing iPhone X — Apple',\n",
       "  'channel_title': 'Apple'},\n",
       " {'_id': ObjectId('5fce1bc8791f2aef9f8ae0aa'),\n",
       "  'video_id': 675,\n",
       "  'video_title': 'iPhone X — Introducing iPhone X — Apple',\n",
       "  'channel_title': 'Apple'},\n",
       " {'_id': ObjectId('5fce1bc8791f2aef9f8ae0bc'),\n",
       "  'video_id': 906,\n",
       "  'video_title': 'iPhone X — Introducing iPhone X — Apple',\n",
       "  'channel_title': 'Apple'},\n",
       " {'_id': ObjectId('5fce1bc8791f2aef9f8ae0ca'),\n",
       "  'video_id': 1062,\n",
       "  'video_title': 'Apple Watch Series 3 + Apple Music — Roll — Apple',\n",
       "  'channel_title': 'Apple'},\n",
       " {'_id': ObjectId('5fce1bc8791f2aef9f8ae0de'),\n",
       "  'video_id': 1299,\n",
       "  'video_title': 'Apple Watch Series 3 + Apple Music — Roll — Apple',\n",
       "  'channel_title': 'Apple'},\n",
       " {'_id': ObjectId('5fce1bc8791f2aef9f8ae0f3'),\n",
       "  'video_id': 1539,\n",
       "  'video_title': 'Apple Watch Series 3 + Apple Music — Roll — Apple',\n",
       "  'channel_title': 'Apple'},\n",
       " {'_id': ObjectId('5fce1bc8791f2aef9f8ae180'),\n",
       "  'video_id': 4045,\n",
       "  'video_title': 'iPhone 8 Plus — Portraits of Her  — Apple',\n",
       "  'channel_title': 'Apple'},\n",
       " {'_id': ObjectId('5fce1bc8791f2aef9f8ae18d'),\n",
       "  'video_id': 4286,\n",
       "  'video_title': 'iPhone 8 Plus — Portraits of Her  — Apple',\n",
       "  'channel_title': 'Apple'},\n",
       " {'_id': ObjectId('5fce1bc8791f2aef9f8ae19c'),\n",
       "  'video_id': 4540,\n",
       "  'video_title': 'iPhone 8 Plus — Portraits of Her  — Apple',\n",
       "  'channel_title': 'Apple'}]"
      ]
     },
     "execution_count": 6,
     "metadata": {},
     "output_type": "execute_result"
    }
   ],
   "source": [
    "#On récupère toutes lignes dont le 'channel_title' est 'Apple'.\n",
    "cur = collection.find({'channel_title' : \"Apple\"}, {'video_id':1, 'video_title':1, 'channel_title':1})\n",
    "list(cur)"
   ]
  },
  {
   "cell_type": "markdown",
   "metadata": {},
   "source": [
    "## Question 2"
   ]
  },
  {
   "cell_type": "code",
   "execution_count": 7,
   "metadata": {},
   "outputs": [
    {
     "name": "stdout",
     "output_type": "stream",
     "text": [
      "Nombre de catégories : 16\n"
     ]
    }
   ],
   "source": [
    "#On compte le nombre d'éléments dans la liste contenant toutes les 'category_id' distinctes.\n",
    "NbCat = len(collection.distinct('category_id'))\n",
    "print(\"Nombre de catégories : \"+str(NbCat))"
   ]
  },
  {
   "cell_type": "markdown",
   "metadata": {},
   "source": [
    "## Question 3"
   ]
  },
  {
   "cell_type": "code",
   "execution_count": 8,
   "metadata": {},
   "outputs": [],
   "source": [
    "#Nous avons déjà réalisé cette question dans le nettoyage des bases de donnée via pandas"
   ]
  },
  {
   "cell_type": "markdown",
   "metadata": {},
   "source": [
    "## Question 4"
   ]
  },
  {
   "cell_type": "code",
   "execution_count": 9,
   "metadata": {},
   "outputs": [
    {
     "data": {
      "text/plain": [
       "[{'_id': ObjectId('5fce1bc8791f2aef9f8aeef3'),\n",
       "  'video_id': 1908,\n",
       "  'video_title': \"BTS (방탄소년단) 'DNA' Official MV\",\n",
       "  'views': 41500672},\n",
       " {'_id': ObjectId('5fce1bc8791f2aef9f8aeedf'),\n",
       "  'video_id': 1695,\n",
       "  'video_title': \"BTS (방탄소년단) 'DNA' Official MV\",\n",
       "  'views': 38013692},\n",
       " {'_id': ObjectId('5fce1bc8791f2aef9f8aedca'),\n",
       "  'video_id': 178,\n",
       "  'video_title': 'ZAYN - Dusk Till Dawn ft. Sia',\n",
       "  'views': 36323498},\n",
       " {'_id': ObjectId('5fce1bc8791f2aef9f8adfbd'),\n",
       "  'video_id': 7136,\n",
       "  'video_title': 'Eminem Rips Donald Trump In BET Hip Hop Awards Freestyle Cypher',\n",
       "  'views': 33191594},\n",
       " {'_id': ObjectId('5fce1bc8791f2aef9f8adf91'),\n",
       "  'video_id': 6918,\n",
       "  'video_title': 'Eminem Rips Donald Trump In BET Hip Hop Awards Freestyle Cypher',\n",
       "  'views': 32512343},\n",
       " {'_id': ObjectId('5fce1bc8791f2aef9f8aeef9'),\n",
       "  'video_id': 1996,\n",
       "  'video_title': 'Shakira - Perro Fiel (Official Video) ft. Nicky Jam',\n",
       "  'views': 32136948},\n",
       " {'_id': ObjectId('5fce1bc8791f2aef9f8adf63'),\n",
       "  'video_id': 6673,\n",
       "  'video_title': 'Eminem Rips Donald Trump In BET Hip Hop Awards Freestyle Cypher',\n",
       "  'views': 31636010},\n",
       " {'_id': ObjectId('5fce1bc8791f2aef9f8aeec0'),\n",
       "  'video_id': 1441,\n",
       "  'video_title': \"BTS (방탄소년단) 'DNA' Official MV\",\n",
       "  'views': 30424471},\n",
       " {'_id': ObjectId('5fce1bc8791f2aef9f8adf35'),\n",
       "  'video_id': 6432,\n",
       "  'video_title': 'Eminem Rips Donald Trump In BET Hip Hop Awards Freestyle Cypher',\n",
       "  'views': 30224787},\n",
       " {'_id': ObjectId('5fce1bc8791f2aef9f8adf00'),\n",
       "  'video_id': 6205,\n",
       "  'video_title': 'Eminem Rips Donald Trump In BET Hip Hop Awards Freestyle Cypher',\n",
       "  'views': 28212358}]"
      ]
     },
     "execution_count": 9,
     "metadata": {},
     "output_type": "execute_result"
    }
   ],
   "source": [
    "#Retourne les 10 vidéos les plus vues.\n",
    "cur = collection.find({}, {'video_id':1, 'video_title':1, 'views':1}).sort([('views', -1)])\n",
    "list(cur)[0:10]\n"
   ]
  },
  {
   "cell_type": "markdown",
   "metadata": {},
   "source": [
    "## Question 5"
   ]
  },
  {
   "cell_type": "code",
   "execution_count": 10,
   "metadata": {},
   "outputs": [
    {
     "data": {
      "text/plain": [
       "[{'_id': 'Autos & Vehicles', 'moyenne de vue': 607693.8706896552},\n",
       " {'_id': 'Shows', 'moyenne de vue': 8492.5},\n",
       " {'_id': 'Travel & Events', 'moyenne de vue': 464041.0833333333},\n",
       " {'_id': 'Science & Technology', 'moyenne de vue': 924730.548828125},\n",
       " {'_id': 'Pets & Animals', 'moyenne de vue': 651404.3879310344},\n",
       " {'_id': 'News & Politics', 'moyenne de vue': 540955.5569823436},\n",
       " {'_id': 'Gaming', 'moyenne de vue': 681081.8170731707},\n",
       " {'_id': 'Comedy', 'moyenne de vue': 1240073.294039735},\n",
       " {'_id': 'Sports', 'moyenne de vue': 728434.3243902439},\n",
       " {'_id': 'Film & Animation', 'moyenne de vue': 1039472.6560846561},\n",
       " {'_id': 'Music', 'moyenne de vue': 1176553.612},\n",
       " {'_id': 'Entertainment', 'moyenne de vue': 1154868.4397251718},\n",
       " {'_id': 'Education', 'moyenne de vue': 547582.4700598803},\n",
       " {'_id': 'People & Blogs', 'moyenne de vue': 971532.7573696146},\n",
       " {'_id': 'Nonprofits & Activism', 'moyenne de vue': 1110334.2142857143},\n",
       " {'_id': 'Howto & Style', 'moyenne de vue': 537665.1806674339}]"
      ]
     },
     "execution_count": 10,
     "metadata": {},
     "output_type": "execute_result"
    }
   ],
   "source": [
    "#Retourne le nombre de vue moyen par catégorie\n",
    "cur = collection.aggregate([{'$group' : {'_id' : '$category_title', \"moyenne de vue\": {\"$avg\" : \"$views\"}}}])\n",
    "list(cur)"
   ]
  },
  {
   "cell_type": "markdown",
   "metadata": {},
   "source": [
    "## Question 6 "
   ]
  },
  {
   "cell_type": "code",
   "execution_count": 11,
   "metadata": {},
   "outputs": [
    {
     "data": {
      "text/plain": [
       "[{'_id': 'ZaynVEVO', 'moyenne de like': 1431683.0},\n",
       " {'_id': 'ibighit', 'moyenne de like': 1371766.25},\n",
       " {'_id': 'melanie martinez', 'moyenne de like': 911871.5},\n",
       " {'_id': 'BETNetworks', 'moyenne de like': 769687.625},\n",
       " {'_id': 'jypentertainment', 'moyenne de like': 758826.6666666666},\n",
       " {'_id': 'Logan Paul Vlogs', 'moyenne de like': 653443.5384615385},\n",
       " {'_id': 'Wengie', 'moyenne de like': 567235.2},\n",
       " {'_id': 'Alesso', 'moyenne de like': 509417.28571428574},\n",
       " {'_id': 'PewDiePie', 'moyenne de like': 508647.8},\n",
       " {'_id': 'shakiraVEVO', 'moyenne de like': 434302.14285714284}]"
      ]
     },
     "execution_count": 11,
     "metadata": {},
     "output_type": "execute_result"
    }
   ],
   "source": [
    "#Retourne les 10 chaines youtubes avec la plus grande moyenne de likes\n",
    "cur = collection.aggregate([\n",
    "    {'$group' : {'_id' : '$channel_title', 'moyenne de like': { \"$avg\" : \"$likes\"}}},\n",
    "    {'$sort' : {'moyenne de like' : -1}}\n",
    "])\n",
    "list(cur)[0:10]\n"
   ]
  },
  {
   "cell_type": "code",
   "execution_count": null,
   "metadata": {},
   "outputs": [],
   "source": []
  }
 ],
 "metadata": {
  "kernelspec": {
   "display_name": "Python 3",
   "language": "python",
   "name": "python3"
  },
  "language_info": {
   "codemirror_mode": {
    "name": "ipython",
    "version": 3
   },
   "file_extension": ".py",
   "mimetype": "text/x-python",
   "name": "python",
   "nbconvert_exporter": "python",
   "pygments_lexer": "ipython3",
   "version": "3.8.6"
  }
 },
 "nbformat": 4,
 "nbformat_minor": 2
}
